{
 "cells": [
  {
   "cell_type": "code",
   "execution_count": 1,
   "metadata": {},
   "outputs": [
    {
     "data": {
      "text/html": [
       "<div>\n",
       "<style scoped>\n",
       "    .dataframe tbody tr th:only-of-type {\n",
       "        vertical-align: middle;\n",
       "    }\n",
       "\n",
       "    .dataframe tbody tr th {\n",
       "        vertical-align: top;\n",
       "    }\n",
       "\n",
       "    .dataframe thead th {\n",
       "        text-align: right;\n",
       "    }\n",
       "</style>\n",
       "<table border=\"1\" class=\"dataframe\">\n",
       "  <thead>\n",
       "    <tr style=\"text-align: right;\">\n",
       "      <th></th>\n",
       "      <th>flores_codes</th>\n",
       "      <th>resource_level</th>\n",
       "      <th>average_chosen_scores</th>\n",
       "      <th>average_rejected_scores</th>\n",
       "    </tr>\n",
       "  </thead>\n",
       "  <tbody>\n",
       "    <tr>\n",
       "      <th>0</th>\n",
       "      <td>ssw_Latn</td>\n",
       "      <td>low</td>\n",
       "      <td>3.96</td>\n",
       "      <td>1.510204</td>\n",
       "    </tr>\n",
       "    <tr>\n",
       "      <th>1</th>\n",
       "      <td>tso_Latn</td>\n",
       "      <td>low</td>\n",
       "      <td>3.96</td>\n",
       "      <td>1.500000</td>\n",
       "    </tr>\n",
       "    <tr>\n",
       "      <th>2</th>\n",
       "      <td>nso_Latn</td>\n",
       "      <td>low</td>\n",
       "      <td>3.62</td>\n",
       "      <td>1.520000</td>\n",
       "    </tr>\n",
       "  </tbody>\n",
       "</table>\n",
       "</div>"
      ],
      "text/plain": [
       "  flores_codes resource_level  average_chosen_scores  average_rejected_scores\n",
       "0     ssw_Latn            low                   3.96                 1.510204\n",
       "1     tso_Latn            low                   3.96                 1.500000\n",
       "2     nso_Latn            low                   3.62                 1.520000"
      ]
     },
     "execution_count": 1,
     "metadata": {},
     "output_type": "execute_result"
    }
   ],
   "source": [
    "import pandas as pd\n",
    "\n",
    "df = pd.read_csv('sample_data/gpt-4-scores.csv')\n",
    "df.head(3)"
   ]
  },
  {
   "cell_type": "code",
   "execution_count": 3,
   "metadata": {},
   "outputs": [
    {
     "name": "stdout",
     "output_type": "stream",
     "text": [
      "LDI: 0.85\n"
     ]
    }
   ],
   "source": [
    "df['score_diff'] = df['average_chosen_scores'] - df['average_rejected_scores']\n",
    "max_score_diff = df['score_diff'].max()\n",
    "df['score_diff_norm'] = df['score_diff'] / max_score_diff\n",
    "ldi = df['score_diff_norm'].mean()\n",
    "print(f'LDI: {ldi:.2f}')"
   ]
  },
  {
   "cell_type": "code",
   "execution_count": null,
   "metadata": {},
   "outputs": [],
   "source": []
  }
 ],
 "metadata": {
  "kernelspec": {
   "display_name": "reward",
   "language": "python",
   "name": "python3"
  },
  "language_info": {
   "codemirror_mode": {
    "name": "ipython",
    "version": 3
   },
   "file_extension": ".py",
   "mimetype": "text/x-python",
   "name": "python",
   "nbconvert_exporter": "python",
   "pygments_lexer": "ipython3",
   "version": "3.11.9"
  }
 },
 "nbformat": 4,
 "nbformat_minor": 2
}
